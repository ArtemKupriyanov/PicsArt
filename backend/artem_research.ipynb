{
 "cells": [
  {
   "cell_type": "code",
   "execution_count": 2,
   "metadata": {},
   "outputs": [],
   "source": [
    "import json"
   ]
  },
  {
   "cell_type": "code",
   "execution_count": 8,
   "metadata": {},
   "outputs": [],
   "source": [
    "with open(\"../instagram_parser/dumps/ushakov.roma.json\") as f:\n",
    "    roma_json = json.load(f)"
   ]
  },
  {
   "cell_type": "code",
   "execution_count": null,
   "metadata": {},
   "outputs": [],
   "source": []
  },
  {
   "cell_type": "code",
   "execution_count": 9,
   "metadata": {},
   "outputs": [
    {
     "data": {
      "text/plain": [
       "['https://scontent-iad3-1.cdninstagram.com/vp/42a42ea568d3ed5dd5f3aab0cb0f112f/5CAB5237/t51.2885-19/928596_821234261246750_806901460_a.jpg',\n",
       " 'https://scontent-iad3-1.cdninstagram.com/vp/f186542859a3380784d268c46123fd87/5CA572D9/t51.2885-15/e35/40359008_1351972081605547_4733661851308998921_n.jpg?se=7&ig_cache_key=MTg2NDczOTMxNDAxNDA0OTk5Mw%3D%3D.2',\n",
       " 'https://scontent-iad3-1.cdninstagram.com/vp/920d4a6ec3f00f9e6edab27097fd52d4/5C93A1F1/t51.2885-15/e35/37527284_2122718734611482_4352783920945692672_n.jpg?se=7&ig_cache_key=MTg1NzUwOTc5NzczMTgzMTYwNA%3D%3D.2',\n",
       " 'https://scontent-iad3-1.cdninstagram.com/vp/99d1458241c7c529c51b3a19379b8af0/5CA35DDA/t51.2885-15/e35/39994476_2286244504944121_5388492001358381056_n.jpg?se=7&ig_cache_key=MTg1NjAxMzA1MzcwNTU5MDU2Mg%3D%3D.2',\n",
       " 'https://scontent-iad3-1.cdninstagram.com/vp/2ea1166ed8deb881e3060a06f7ccd0f8/5C8BE4C1/t51.2885-15/e35/38527803_302873030491008_7980458026660265984_n.jpg?se=7&ig_cache_key=MTgzNTA1MjE2NDA1MDAxNzc5NA%3D%3D.2',\n",
       " 'https://scontent-iad3-1.cdninstagram.com/vp/da9e2c718f5b89014f62fdeaf49c5636/5C917FDC/t51.2885-15/e35/38450800_512020869242177_3985902424337416192_n.jpg?se=7&ig_cache_key=MTgwMzI0NTkzNTM3MTg3NjI2OA%3D%3D.2']"
      ]
     },
     "execution_count": 9,
     "metadata": {},
     "output_type": "execute_result"
    }
   ],
   "source": [
    "roma_json[\"k_artemkaa\"]"
   ]
  },
  {
   "cell_type": "code",
   "execution_count": null,
   "metadata": {},
   "outputs": [],
   "source": []
  },
  {
   "cell_type": "code",
   "execution_count": null,
   "metadata": {},
   "outputs": [],
   "source": []
  }
 ],
 "metadata": {
  "kernelspec": {
   "display_name": "Environment (conda_tensorflow_p36)",
   "language": "python",
   "name": "conda_tensorflow_p36"
  },
  "language_info": {
   "codemirror_mode": {
    "name": "ipython",
    "version": 3
   },
   "file_extension": ".py",
   "mimetype": "text/x-python",
   "name": "python",
   "nbconvert_exporter": "python",
   "pygments_lexer": "ipython3",
   "version": "3.6.5"
  }
 },
 "nbformat": 4,
 "nbformat_minor": 2
}
